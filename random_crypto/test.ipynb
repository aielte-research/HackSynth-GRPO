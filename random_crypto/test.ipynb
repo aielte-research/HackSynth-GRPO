{
 "cells": [
  {
   "cell_type": "code",
   "execution_count": null,
   "id": "54515254",
   "metadata": {},
   "outputs": [],
   "source": [
    "import pandas as pd\n",
    "\n",
    "# Load the easy list\n",
    "with open(\"easy_list.txt\", \"r\") as f:\n",
    "    easy_list = set(line.strip().lower() for line in f if line.strip())\n",
    "\n",
    "# Load the challenges CSV\n",
    "df = pd.read_csv(\"/home/mlajos/CyberML2024/procedural_ctf_generation/challenges/non_verified_challenges_5000/all_challenges.csv\")\n"
   ]
  },
  {
   "cell_type": "code",
   "execution_count": null,
   "id": "8066bd85",
   "metadata": {},
   "outputs": [],
   "source": [
    "# Add difficulty column\n",
    "def assign_difficulty(subtype):\n",
    "    if pd.isna(subtype):\n",
    "        return \"not defined\"\n",
    "    return \"easy\" if subtype.lower() in easy_list else \"not defined\"\n",
    "\n",
    "df[\"difficulty\"] = df[\"subtype\"].apply(assign_difficulty)\n",
    "\n",
    "# Save the result\n",
    "df.to_csv(\"all_challenges_with_difficulty.csv\", index=False)"
   ]
  },
  {
   "cell_type": "code",
   "execution_count": null,
   "id": "a7e40284",
   "metadata": {},
   "outputs": [],
   "source": [
    "sum(df[\"difficulty\"] == \"easy\")"
   ]
  }
 ],
 "metadata": {
  "kernelspec": {
   "display_name": "cyber_venv",
   "language": "python",
   "name": "python3"
  },
  "language_info": {
   "codemirror_mode": {
    "name": "ipython",
    "version": 3
   },
   "file_extension": ".py",
   "mimetype": "text/x-python",
   "name": "python",
   "nbconvert_exporter": "python",
   "pygments_lexer": "ipython3",
   "version": "3.9.19"
  }
 },
 "nbformat": 4,
 "nbformat_minor": 5
}
